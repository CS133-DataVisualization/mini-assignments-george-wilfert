{
  "cells": [
    {
      "cell_type": "markdown",
      "metadata": {
        "id": "ZgULxg_0AuZL"
      },
      "source": [
        "###**Q1**.  Use [Lucidchart](https://sjsu.edu/it/services/applications/lucidchart.php) to create an Entity Relationship Diagram (ERD) for the following tables representing a customer order tracking system:\n",
        "\n",
        "Tables and fields:\n",
        "1. product:\n",
        "    - product_id: INTEGER (Primary key)\n",
        "    - name: TEXT not null\n",
        "    - price: REAL\n",
        "\n",
        "\n",
        "2. customer:\n",
        "    - customer_id: INTEGER (Primary key)\n",
        "    - name: TEXT not null\n",
        "    - email: TEXT not null\n",
        "\n",
        "\n",
        "3. purchase_order:\n",
        "    - order_id: INTEGER (Primary key)\n",
        "    - customer_id: INTEGER (Foreign key)\n",
        "    - date: TEXT not null (\"YYYY-MM-DD\")\n",
        "\n",
        "\n",
        "4. order_item:\n",
        "    - order_id: INTEGER (Foreign key)\n",
        "    - product_id: INTEGER (Foreign key)\n",
        "    - quantity: INTEGER\n",
        "    \n",
        "\n",
        "\n",
        "Export the ERD as PDF and submit it in Canvas."
      ]
    },
    {
      "cell_type": "markdown",
      "metadata": {
        "id": "PZJtgMx7AuZO"
      },
      "source": [
        "###**Q2**. Create SQLite tables and load data\n",
        "1. Here are the csv files for the data for the four tables:\n",
        "   - product: https://raw.githubusercontent.com/csbfx/cs133/main/product.csv\n",
        "   - customer: https://raw.githubusercontent.com/csbfx/cs133/main/customer.csv\n",
        "   - order_item: https://raw.githubusercontent.com/csbfx/cs133/main/order_item.csv\n",
        "   - purchase_order: https://raw.githubusercontent.com/csbfx/cs133/main/purchase_order.csv\n",
        "2. In this notebook, create the database and save it in a file called `store.db`, and create the four tables as described above.\n",
        "3. Load the data in the csv files into the corresponding table.\n",
        "4. Commit so that the data loaded to the tables to officially written to the tables.\n",
        "5. Execute a query SELECT * from each table to make sure the data are properly loaded.\n",
        "6. Execute a query using SELECT statement that queries with JOIN tables to find the purchase date, the products and quantities that a particular customer has purchased."
      ]
    },
    {
      "cell_type": "code",
      "execution_count": 93,
      "metadata": {
        "id": "w4xnppG8AuZP",
        "colab": {
          "base_uri": "https://localhost:8080/"
        },
        "outputId": "6431920d-b226-4b6e-f719-8b7344cc43c3"
      },
      "outputs": [
        {
          "output_type": "stream",
          "name": "stdout",
          "text": [
            "Drive already mounted at /content/drive; to attempt to forcibly remount, call drive.mount(\"/content/drive\", force_remount=True).\n"
          ]
        }
      ],
      "source": [
        "# 2.2 Create the database and save it in a file called store.db, and create the four tables as described above.\n",
        "# Your code here . . .\n",
        "import sqlite3\n",
        "from pathlib import Path\n",
        "from google.colab import drive\n",
        "drive.mount('/content/drive')\n",
        "gdrive='drive/MyDrive/'\n",
        "\n",
        "Path(gdrive+'store.db').touch()"
      ]
    },
    {
      "cell_type": "code",
      "source": [
        "conn = sqlite3.connect(gdrive+'store.db')\n",
        "c = conn.cursor()\n",
        "SQL_CreateTable = '''CREATE TABLE IF NOT EXISTS product (\n",
        "                  product_id INTEGER PRIMARY KEY,\n",
        "                  name TEXT NOT NULL,\n",
        "                  price REAL\n",
        "             )'''\n",
        "\n",
        "c.execute(SQL_CreateTable)\n",
        "\n",
        "SQL_CreateTable2 = '''CREATE TABLE IF NOT EXISTS customer (\n",
        "                  customer_id INTEGER PRIMARY KEY,\n",
        "                  name TEXT NOT NULL,\n",
        "                  email TEXT NOT NULL\n",
        "             )'''\n",
        "\n",
        "c.execute(SQL_CreateTable2)\n",
        "SQL_CreateTable3 = '''CREATE TABLE IF NOT EXISTS purchase_order(\n",
        "                  order_id INTEGER PRIMARY KEY,\n",
        "                  customer_id INTEGER,\n",
        "                  date TEXT NOT NULL,\n",
        "                  FOREIGN KEY (customer_id)\n",
        "                  REFERENCES customer (customer_id)\n",
        "                     ON DELETE CASCADE\n",
        "                     ON UPDATE NO ACTION\n",
        "             )'''\n",
        "\n",
        "c.execute(SQL_CreateTable3)\n",
        "\n",
        "SQL_CreateTable4 = '''CREATE TABLE IF NOT EXISTS order_item (\n",
        "    order_id INTEGER,\n",
        "    product_id INTEGER,\n",
        "    quantity INTEGER,\n",
        "    FOREIGN KEY (order_id) REFERENCES purchase_order(order_id)\n",
        "        ON DELETE CASCADE\n",
        "        ON UPDATE NO ACTION,\n",
        "    FOREIGN KEY (product_id) REFERENCES product(product_id)\n",
        "        ON DELETE CASCADE\n",
        "        ON UPDATE NO ACTION\n",
        ")'''\n",
        "\n",
        "c.execute(SQL_CreateTable4)\n",
        "\n",
        "conn.commit()"
      ],
      "metadata": {
        "id": "B6x7i1_q_zR3"
      },
      "execution_count": 94,
      "outputs": []
    },
    {
      "cell_type": "code",
      "source": [
        "'''\n",
        "c.execute('DROP TABLE IF EXISTS order_item')\n",
        "c.execute('DROP TABLE IF EXISTS purchase_order')\n",
        "c.execute('DROP TABLE IF EXISTS customer')\n",
        "c.execute('DROP TABLE IF EXISTS product')\n",
        "conn.commit()\n",
        "'''"
      ],
      "metadata": {
        "colab": {
          "base_uri": "https://localhost:8080/",
          "height": 35
        },
        "id": "QNCCfn0k1JUz",
        "outputId": "043dfbf6-115b-4e26-b881-0438429e75a9"
      },
      "execution_count": 95,
      "outputs": [
        {
          "output_type": "execute_result",
          "data": {
            "text/plain": [
              "\"\\nc.execute('DROP TABLE IF EXISTS order_item')\\nc.execute('DROP TABLE IF EXISTS purchase_order')\\nc.execute('DROP TABLE IF EXISTS customer')\\nc.execute('DROP TABLE IF EXISTS product')\\nconn.commit()\\n\""
            ],
            "application/vnd.google.colaboratory.intrinsic+json": {
              "type": "string"
            }
          },
          "metadata": {},
          "execution_count": 95
        }
      ]
    },
    {
      "cell_type": "code",
      "source": [
        "# 2.3 Load the data in the csv files into the corresponding table.\n",
        "# Your code here . . .\n",
        "import pandas as pd\n",
        "product = pd.read_csv('https://raw.githubusercontent.com/csbfx/cs133/main/product.csv')\n",
        "customer = pd.read_csv('https://raw.githubusercontent.com/csbfx/cs133/main/customer.csv')\n",
        "order_item = pd.read_csv('https://raw.githubusercontent.com/csbfx/cs133/main/order_item.csv')\n",
        "purchase_order = pd.read_csv('https://raw.githubusercontent.com/csbfx/cs133/main/purchase_order.csv')\n",
        "\n",
        "\n",
        "\n",
        "print(product)\n",
        "print(customer)\n",
        "print(order_item)\n",
        "print(purchase_order)\n",
        "\n",
        "for i, row in product.iterrows():\n",
        "    c.execute('INSERT INTO product (product_id, name, price) VALUES (?, ?, ?)', (row['product_id'], row['name'], row['price']))\n",
        "\n",
        "for i, row in customer.iterrows():\n",
        "    c.execute('INSERT INTO customer (customer_id, name, email) VALUES (?, ?, ?)', (row['customer_id'], row['name'], row['email']))\n",
        "\n",
        "for i, row in purchase_order.iterrows():\n",
        "    c.execute('INSERT INTO purchase_order (order_id, customer_id, date) VALUES (?, ?, ?)', (row['order_id'], row['customer_id'], row['date']))\n",
        "\n",
        "\n",
        "# I have to insert manually because it is turning to bits if you could explain why this would be happening I researched and couldn't figure it\n",
        "data = [\n",
        "    (0, 0, 1),\n",
        "    (0, 1, 1),\n",
        "    (1, 2, 2),\n",
        "    (1, 3, 1)\n",
        "]\n",
        "for row in data:\n",
        "    c.execute('INSERT INTO order_item (order_id, product_id, quantity) VALUES (?, ?, ?)', row)\n",
        "\n",
        "conn.commit()\n",
        "\n"
      ],
      "metadata": {
        "id": "WPRhy-dSBY-c",
        "colab": {
          "base_uri": "https://localhost:8080/"
        },
        "outputId": "d1f66640-6e17-473d-d7e1-6cc12042d9d6"
      },
      "execution_count": 96,
      "outputs": [
        {
          "output_type": "stream",
          "name": "stdout",
          "text": [
            "   product_id     name  price\n",
            "0           0  bicycle    400\n",
            "1           1   helmet     45\n",
            "2           2   gloves     23\n",
            "3           3    chain     48\n",
            "   customer_id               name            email\n",
            "0            0          Wendy Lee    wlee@bike.com\n",
            "1            1        Jason Brown     jb@speed.com\n",
            "2            2       Harry Potter  hp@hogwarts.edu\n",
            "3            3  Godric Gryffindor  gg@hogwards.edu\n",
            "   order_id  product_id  quantity\n",
            "0         0           0         1\n",
            "1         0           1         1\n",
            "2         1           2         2\n",
            "3         1           3         1\n",
            "   order_id  customer_id        date\n",
            "0         0            0  2020-10-19\n",
            "1         1            0  2020-10-20\n",
            "2         2            1  2020-10-20\n"
          ]
        }
      ]
    },
    {
      "cell_type": "code",
      "source": [],
      "metadata": {
        "id": "EMN2dkkI16Wv"
      },
      "execution_count": 96,
      "outputs": []
    },
    {
      "cell_type": "code",
      "source": [
        "# 2.4 Commit so that the data loaded to the tables to officially written to the tables.\n",
        "# Your code here . . .\n",
        "conn.commit()\n"
      ],
      "metadata": {
        "id": "VIBaGXPABbVO"
      },
      "execution_count": 97,
      "outputs": []
    },
    {
      "cell_type": "code",
      "source": [
        "# 2.5 Execute a query SELECT * from each table to make sure the data are properly loaded.\n",
        "# Your code here . . .\n",
        "c.execute(\"SELECT * FROM purchase_order\")\n",
        "rows = c.fetchall()\n",
        "for row in rows:\n",
        "    print(row)\n",
        "\n",
        "print()\n",
        "c.execute(\"SELECT * FROM Product\")\n",
        "rows = c.fetchall()\n",
        "for row in rows:\n",
        "    print(row)\n",
        "\n",
        "print()\n",
        "c.execute(\"SELECT * FROM Customer\")\n",
        "rows = c.fetchall()\n",
        "for row in rows:\n",
        "    print(row)\n",
        "\n",
        "print()\n",
        "c.execute(\"SELECT * FROM order_item\")\n",
        "rows = c.fetchall()\n",
        "for row in rows:\n",
        "    print(row)"
      ],
      "metadata": {
        "id": "wPHFswfYBgan",
        "colab": {
          "base_uri": "https://localhost:8080/"
        },
        "outputId": "b7a3eccf-c692-4a4d-8ad2-4f356dd03e33"
      },
      "execution_count": 98,
      "outputs": [
        {
          "output_type": "stream",
          "name": "stdout",
          "text": [
            "(0, 0, '2020-10-19')\n",
            "(1, 0, '2020-10-20')\n",
            "(2, 1, '2020-10-20')\n",
            "\n",
            "(0, 'bicycle', 400.0)\n",
            "(1, 'helmet', 45.0)\n",
            "(2, 'gloves', 23.0)\n",
            "(3, 'chain', 48.0)\n",
            "\n",
            "(0, 'Wendy Lee', 'wlee@bike.com')\n",
            "(1, 'Jason Brown', 'jb@speed.com')\n",
            "(2, 'Harry Potter', 'hp@hogwarts.edu')\n",
            "(3, 'Godric Gryffindor', 'gg@hogwards.edu')\n",
            "\n",
            "(0, 0, 1)\n",
            "(0, 1, 1)\n",
            "(1, 2, 2)\n",
            "(1, 3, 1)\n"
          ]
        }
      ]
    },
    {
      "cell_type": "code",
      "source": [
        "# 2.6 Execute a query using SELECT statement that queries with JOIN tables to find the purchase date,\n",
        "#    the products and quantities that a particular customer has purchased.\n",
        "# Query 1:\n",
        "# Query 2: ???\n",
        "# Your code here . . .\n",
        "query = '''\n",
        "    SELECT po.date, p.name AS product_name, oi.quantity\n",
        "    FROM purchase_order po\n",
        "    JOIN order_item oi ON po.order_id = oi.order_id\n",
        "    JOIN product p ON oi.product_id = p.product_id\n",
        "    WHERE po.customer_id = 0\n",
        "'''\n",
        "\n",
        "c.execute(query)\n",
        "\n",
        "results = c.fetchall()\n",
        "\n",
        "print(\"Results for customer_id 0:\", results)\n",
        "\n",
        "\n",
        "\n"
      ],
      "metadata": {
        "id": "armxZeMPBmSe",
        "colab": {
          "base_uri": "https://localhost:8080/"
        },
        "outputId": "49782f1c-2308-4e2c-e380-9f49ffd20909"
      },
      "execution_count": 102,
      "outputs": [
        {
          "output_type": "stream",
          "name": "stdout",
          "text": [
            "Results for customer_id 0: [('2020-10-19', 'bicycle', 1), ('2020-10-19', 'helmet', 1), ('2020-10-20', 'gloves', 2), ('2020-10-20', 'chain', 1)]\n"
          ]
        }
      ]
    },
    {
      "cell_type": "code",
      "source": [
        "# Additional tasks\n",
        "# Appending a new row to one of the tables\n",
        "# Deleting row(s) with \"XXX\"\n",
        "\n",
        "c.execute('INSERT INTO order_item (order_id, product_id, quantity) VALUES (?, ?, ?)',\n",
        "              (4, 4, 4))\n",
        "c.execute(\"SELECT * FROM order_item\")\n",
        "rows = c.fetchall()\n",
        "for row in rows:\n",
        "    print(row)\n",
        "\n",
        "conn.commit()\n",
        "print()\n",
        "c.execute('DELETE FROM order_item WHERE order_id = 4')\n",
        "conn.commit()\n",
        "\n",
        "c.execute(\"SELECT * FROM order_item\")\n",
        "rows = c.fetchall()\n",
        "for row in rows:\n",
        "    print(row)\n"
      ],
      "metadata": {
        "id": "h17Hwcs5jvoA",
        "colab": {
          "base_uri": "https://localhost:8080/"
        },
        "outputId": "ef2f3049-a3e6-4a65-bac9-5401bb46f1b5"
      },
      "execution_count": 104,
      "outputs": [
        {
          "output_type": "stream",
          "name": "stdout",
          "text": [
            "(0, 0, 1)\n",
            "(0, 1, 1)\n",
            "(1, 2, 2)\n",
            "(1, 3, 1)\n",
            "(4, 4, 4)\n",
            "\n",
            "(0, 0, 1)\n",
            "(0, 1, 1)\n",
            "(1, 2, 2)\n",
            "(1, 3, 1)\n"
          ]
        }
      ]
    }
  ],
  "metadata": {
    "kernelspec": {
      "display_name": "Python 3",
      "language": "python",
      "name": "python3"
    },
    "language_info": {
      "codemirror_mode": {
        "name": "ipython",
        "version": 3
      },
      "file_extension": ".py",
      "mimetype": "text/x-python",
      "name": "python",
      "nbconvert_exporter": "python",
      "pygments_lexer": "ipython3",
      "version": "3.7.6"
    },
    "colab": {
      "provenance": []
    }
  },
  "nbformat": 4,
  "nbformat_minor": 0
}